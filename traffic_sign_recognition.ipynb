{
 "cells": [
  {
   "cell_type": "code",
   "execution_count": 28,
   "metadata": {},
   "outputs": [],
   "source": [
    "# import all the required libraries\n",
    "\n",
    "import numpy as np\n",
    "import pandas as pd\n",
    "import matplotlib.pyplot as plt\n",
    "from PIL import Image\n",
    "\n",
    "import os\n",
    "\n",
    "import tensorflow as tf\n",
    "from sklearn.model_selection import train_test_split\n",
    "from keras.utils import to_categorical\n",
    "from keras.models import Sequential\n",
    "from keras.layers import Conv2D, MaxPool2D, Dense, Flatten, Dropout"
   ]
  },
  {
   "cell_type": "code",
   "execution_count": 29,
   "metadata": {},
   "outputs": [],
   "source": [
    "# initialize X, Y, Total no of classes in the given data set i.e, 43\n",
    "\n",
    "X = []\n",
    "Y = []\n",
    "total_classes = 43\n",
    "curr_directory = os.getcwd() # this variable holds the absolute path of the project file"
   ]
  },
  {
   "cell_type": "code",
   "execution_count": 30,
   "metadata": {},
   "outputs": [
    {
     "name": "stdout",
     "output_type": "stream",
     "text": [
      "(39209, 30, 30, 3) (39209,)\n"
     ]
    }
   ],
   "source": [
    "# traverse through all the classes and resize the images to a fixed size of 30x30, we use PIL library for this\n",
    "\n",
    "for index in range(total_classes):\n",
    "    path = os.path.join(curr_directory, 'train', str(index))\n",
    "    images = os.listdir(path)\n",
    "    \n",
    "    for img in images:\n",
    "        try:\n",
    "            image = Image.open(path + '/' + img)\n",
    "            image = image.resize((30,30))\n",
    "            image = np.array(image)\n",
    "\n",
    "            X.append(image) # we append the data and label in the X and Y lists respectively\n",
    "            Y.append(index)\n",
    "        \n",
    "        except:\n",
    "            print(\"Error loading image\")\n",
    "                    \n",
    "X = np.array(X)\n",
    "Y = np.array(Y)\n",
    "\n",
    "print(X.shape, Y.shape)"
   ]
  },
  {
   "cell_type": "code",
   "execution_count": 31,
   "metadata": {},
   "outputs": [
    {
     "name": "stdout",
     "output_type": "stream",
     "text": [
      "Shape of training data : x_train:  (31367, 30, 30, 3)  and y_train:  (31367,)\n",
      "Shape of testing data : x_test:  (7842, 30, 30, 3)  and y_test:  (7842,)\n"
     ]
    }
   ],
   "source": [
    "# split the data into train and test data\n",
    "\n",
    "x_train, x_test, y_train, y_test = train_test_split(X, Y, test_size = 0.2, random_state = 42)\n",
    "\n",
    "print(\"Shape of training data : x_train: \", x_train.shape, \" and y_train: \", y_train.shape)\n",
    "print(\"Shape of testing data : x_test: \", x_test.shape, \" and y_test: \", y_test.shape)\n",
    "\n",
    "# one hot encoding the labels\n",
    "\n",
    "y_train = to_categorical(y_train, 43)\n",
    "y_test = to_categorical(y_test, 43)"
   ]
  },
  {
   "cell_type": "code",
   "execution_count": 32,
   "metadata": {},
   "outputs": [],
   "source": [
    "# define the model architecture\n",
    "\n",
    "model = Sequential()\n",
    "\n",
    "model.add(Conv2D(filters = 32, kernel_size = (5, 5), activation = 'relu', input_shape = x_train.shape[1:]))\n",
    "model.add(Conv2D(filters = 32, kernel_size = (5, 5), activation = 'relu'))\n",
    "model.add(MaxPool2D(pool_size = (2, 2)))\n",
    "model.add(Dropout(rate = 0.25))\n",
    "model.add(Conv2D(filters = 64, kernel_size = (3, 3), activation = 'relu'))\n",
    "model.add(Conv2D(filters = 64, kernel_size = (3, 3), activation = 'relu'))\n",
    "model.add(MaxPool2D(pool_size = (2, 2)))\n",
    "model.add(Dropout(rate = 0.25))\n",
    "model.add(Flatten())\n",
    "model.add(Dense(256, activation = 'relu'))\n",
    "model.add(Dropout(rate = 0.5))\n",
    "model.add(Dense(43, activation = 'softmax'))\n",
    "\n",
    "model.compile(loss = 'categorical_crossentropy', optimizer = 'adam', metrics = ['accuracy'])"
   ]
  },
  {
   "cell_type": "code",
   "execution_count": 33,
   "metadata": {},
   "outputs": [
    {
     "name": "stdout",
     "output_type": "stream",
     "text": [
      "Train on 31367 samples, validate on 7842 samples\n",
      "Epoch 1/15\n",
      "31367/31367 [==============================] - 76s 2ms/step - loss: 2.5243 - accuracy: 0.4050 - val_loss: 0.6202 - val_accuracy: 0.8520\n",
      "Epoch 2/15\n",
      "31367/31367 [==============================] - 70s 2ms/step - loss: 0.8450 - accuracy: 0.7551 - val_loss: 0.3280 - val_accuracy: 0.9185\n",
      "Epoch 3/15\n",
      "31367/31367 [==============================] - 73s 2ms/step - loss: 0.5173 - accuracy: 0.8474 - val_loss: 0.1702 - val_accuracy: 0.9495\n",
      "Epoch 4/15\n",
      "31367/31367 [==============================] - 72s 2ms/step - loss: 0.3934 - accuracy: 0.8806 - val_loss: 0.1145 - val_accuracy: 0.9704\n",
      "Epoch 5/15\n",
      "31367/31367 [==============================] - 76s 2ms/step - loss: 0.2848 - accuracy: 0.9141 - val_loss: 0.0904 - val_accuracy: 0.9762\n",
      "Epoch 6/15\n",
      "31367/31367 [==============================] - 78s 2ms/step - loss: 0.2437 - accuracy: 0.9298 - val_loss: 0.0526 - val_accuracy: 0.9876\n",
      "Epoch 7/15\n",
      "31367/31367 [==============================] - 73s 2ms/step - loss: 0.2029 - accuracy: 0.9401 - val_loss: 0.0601 - val_accuracy: 0.9836\n",
      "Epoch 8/15\n",
      "31367/31367 [==============================] - 70s 2ms/step - loss: 0.1727 - accuracy: 0.9497 - val_loss: 0.0610 - val_accuracy: 0.9836\n",
      "Epoch 9/15\n",
      "31367/31367 [==============================] - 69s 2ms/step - loss: 0.1653 - accuracy: 0.9545 - val_loss: 0.0408 - val_accuracy: 0.9889\n",
      "Epoch 10/15\n",
      "31367/31367 [==============================] - 70s 2ms/step - loss: 0.1609 - accuracy: 0.9544 - val_loss: 0.0377 - val_accuracy: 0.9895\n",
      "Epoch 11/15\n",
      "31367/31367 [==============================] - 69s 2ms/step - loss: 0.1438 - accuracy: 0.9595 - val_loss: 0.0616 - val_accuracy: 0.9824\n",
      "Epoch 12/15\n",
      "31367/31367 [==============================] - 70s 2ms/step - loss: 0.1652 - accuracy: 0.9557 - val_loss: 0.0379 - val_accuracy: 0.9918\n",
      "Epoch 13/15\n",
      "31367/31367 [==============================] - 70s 2ms/step - loss: 0.1273 - accuracy: 0.9630 - val_loss: 0.0584 - val_accuracy: 0.9830\n",
      "Epoch 14/15\n",
      "31367/31367 [==============================] - 69s 2ms/step - loss: 0.1347 - accuracy: 0.9628 - val_loss: 0.0291 - val_accuracy: 0.9922\n",
      "Epoch 15/15\n",
      "31367/31367 [==============================] - 70s 2ms/step - loss: 0.1171 - accuracy: 0.9686 - val_loss: 0.0318 - val_accuracy: 0.9935\n"
     ]
    }
   ],
   "source": [
    "# fit the model to the data\n",
    "\n",
    "epochs = 15\n",
    "history = model.fit(x_train, y_train, batch_size = 64, epochs = epochs, validation_data = (x_test, y_test))\n",
    "model.save('traffic_recognition.h5') # save the model"
   ]
  },
  {
   "cell_type": "code",
   "execution_count": 34,
   "metadata": {},
   "outputs": [
    {
     "data": {
      "text/plain": [
       "<matplotlib.legend.Legend at 0x7fb625839710>"
      ]
     },
     "execution_count": 34,
     "metadata": {},
     "output_type": "execute_result"
    },
    {
     "data": {
      "image/png": "[encoded data removed]",
      "text/plain": [
       "<Figure size 432x288 with 1 Axes>"
      ]
     },
     "metadata": {
      "needs_background": "light"
     },
     "output_type": "display_data"
    },
    {
     "data": {
      "image/png": "[encoded data removed]",
      "text/plain": [
       "<Figure size 432x288 with 1 Axes>"
      ]
     },
     "metadata": {
      "needs_background": "light"
     },
     "output_type": "display_data"
    }
   ],
   "source": [
    "# plot the accuracy graph\n",
    "\n",
    "plt.figure(0)\n",
    "plt.plot(history.history['accuracy'], label = 'Training accuracy')\n",
    "plt.plot(history.history['val_accuracy'], label = 'Validation accuracy')\n",
    "plt.title('Accuracy')\n",
    "plt.xlabel('epochs')\n",
    "plt.ylabel('accuracy')\n",
    "plt.legend()\n",
    "\n",
    "# plot the loss graph\n",
    "\n",
    "plt.figure(1)\n",
    "plt.plot(history.history['loss'], label = 'Training loss')\n",
    "plt.plot(history.history['val_loss'], label = 'Validation loss')\n",
    "plt.title('Loss')\n",
    "plt.xlabel('epochs')\n",
    "plt.ylabel('loss')\n",
    "plt.legend() "
   ]
  },
  {
   "cell_type": "code",
   "execution_count": 40,
   "metadata": {},
   "outputs": [
    {
     "name": "stdout",
     "output_type": "stream",
     "text": [
      "Accuracy on test data:  97.26049089469517 %\n"
     ]
    }
   ],
   "source": [
    "# test the model\n",
    "\n",
    "from sklearn.metrics import accuracy_score\n",
    "\n",
    "y_test = pd.read_csv('Test.csv')\n",
    "labels = y_test['ClassId'].values\n",
    "img_paths = y_test['Path'].values\n",
    "\n",
    "test_data = []\n",
    "\n",
    "for path in img_paths:\n",
    "    image = Image.open(path)\n",
    "    image = image.resize((30,30))\n",
    "    test_data.append(np.array(image))\n",
    "    \n",
    "test_data = np.array(test_data)\n",
    "pred = model.predict_classes(test_data)\n",
    "\n",
    "print('Accuracy on test data: ', accuracy_score(labels, pred)*100, '%')"
   ]
  }
 ],
 "metadata": {
  "kernelspec": {
   "display_name": "Python 3",
   "language": "python",
   "name": "python3"
  },
  "language_info": {
   "codemirror_mode": {
    "name": "ipython",
    "version": 3
   },
   "file_extension": ".py",
   "mimetype": "text/x-python",
   "name": "python",
   "nbconvert_exporter": "python",
   "pygments_lexer": "ipython3",
   "version": "3.7.7"
  }
 },
 "nbformat": 4,
 "nbformat_minor": 4
}
