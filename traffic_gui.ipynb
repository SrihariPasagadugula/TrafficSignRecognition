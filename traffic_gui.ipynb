{
 "cells": [
  {
   "cell_type": "code",
   "execution_count": 4,
   "metadata": {},
   "outputs": [],
   "source": [
    "# import all the required libraries\n",
    "\n",
    "import tkinter as tk\n",
    "from tkinter import filedialog\n",
    "from tkinter import *\n",
    "from PIL import ImageTk, Image\n",
    "\n",
    "import numpy as np\n",
    "from keras.models import load_model\n",
    "model = load_model('traffic_recognition.h5') # load the trained model for classification"
   ]
  },
  {
   "cell_type": "code",
   "execution_count": 5,
   "metadata": {},
   "outputs": [],
   "source": [
    "# dictionary to label all traffic signs classes\n",
    "\n",
    "classes = { 1:'Speed limit (20km/h)',\n",
    "            2:'Speed limit (30km/h)', \n",
    "            3:'Speed limit (50km/h)', \n",
    "            4:'Speed limit (60km/h)', \n",
    "            5:'Speed limit (70km/h)', \n",
    "            6:'Speed limit (80km/h)', \n",
    "            7:'End of speed limit (80km/h)', \n",
    "            8:'Speed limit (100km/h)', \n",
    "            9:'Speed limit (120km/h)', \n",
    "            10:'No passing', \n",
    "            11:'No passing veh over 3.5 tons', \n",
    "            12:'Right-of-way at intersection', \n",
    "            13:'Priority road', \n",
    "            14:'Yield', \n",
    "            15:'Stop', \n",
    "            16:'No vehicles', \n",
    "            17:'Veh > 3.5 tons prohibited', \n",
    "            18:'No entry', \n",
    "            19:'General caution', \n",
    "            20:'Dangerous curve left', \n",
    "            21:'Dangerous curve right', \n",
    "            22:'Double curve', \n",
    "            23:'Bumpy road', \n",
    "            24:'Slippery road', \n",
    "            25:'Road narrows on the right', \n",
    "            26:'Road work', \n",
    "            27:'Traffic signals', \n",
    "            28:'Pedestrians', \n",
    "            29:'Children crossing', \n",
    "            30:'Bicycles crossing', \n",
    "            31:'Beware of ice/snow',\n",
    "            32:'Wild animals crossing', \n",
    "            33:'End speed + passing limits', \n",
    "            34:'Turn right ahead', \n",
    "            35:'Turn left ahead', \n",
    "            36:'Ahead only', \n",
    "            37:'Go straight or right', \n",
    "            38:'Go straight or left', \n",
    "            39:'Keep right', \n",
    "            40:'Keep left', \n",
    "            41:'Roundabout mandatory', \n",
    "            42:'End of no passing', \n",
    "            43:'End no passing veh > 3.5 tons' }"
   ]
  },
  {
   "cell_type": "code",
   "execution_count": 6,
   "metadata": {},
   "outputs": [],
   "source": [
    "# different utility functions\n",
    "\n",
    "def classify(file_path):\n",
    "    image = Image.open(file_path)\n",
    "    image = image.resize((30,30))\n",
    "    image = np.expand_dims(image, axis = 0)\n",
    "    image = np.array(image)\n",
    "    pred = model.predict_classes([image])[0]\n",
    "    sign = classes[pred+1]\n",
    "    print(sign)\n",
    "    result.configure(text = sign)"
   ]
  },
  {
   "cell_type": "code",
   "execution_count": 8,
   "metadata": {},
   "outputs": [],
   "source": [
    "def show_classify_btn(file_path):\n",
    "    classify_b = Button(top, text = 'Classify Image', command = lambda: classify(file_path), padx = 10, pady = 5)\n",
    "    classify_b.configure(bg = '#364156', fg = 'white', font = ('arial', 10, 'bold'))\n",
    "    classify_b.place(relx = 0.79, rely = 0.46)"
   ]
  },
  {
   "cell_type": "code",
   "execution_count": 9,
   "metadata": {},
   "outputs": [],
   "source": [
    "def upload_image():\n",
    "    try:\n",
    "        file_path = filedialog.askopenfilename()\n",
    "        uploaded = Image.open(file_path)\n",
    "        uploaded.thumbnail(((top.winfo_width()/2.25), (top.winfo_height()/2.25)))\n",
    "        im = ImageTk.PhotoImage(uploaded)\n",
    "        \n",
    "        sign_image.configure(image = im)\n",
    "        sign_image.image = im\n",
    "        result.configure(text = '')\n",
    "        show_classify_btn(file_path)\n",
    "    except:\n",
    "        pass"
   ]
  },
  {
   "cell_type": "code",
   "execution_count": 10,
   "metadata": {},
   "outputs": [
    {
     "name": "stdout",
     "output_type": "stream",
     "text": [
      "Veh > 3.5 tons prohibited\n",
      "Speed limit (30km/h)\n"
     ]
    }
   ],
   "source": [
    "if __name__ ==  \"__main__\":\n",
    "    # initialise GUI\n",
    "    top = tk.Tk()\n",
    "    top.geometry('800x600')\n",
    "    top.title('Traffic Sign Recognition')\n",
    "    top.configure(bg = '#f9f6f7')\n",
    "    \n",
    "    heading = Label(top, text = 'Traffic sign recognition', pady = 20, font = ('arial', 20, 'bold'))\n",
    "    heading.configure(background = '#f9f6f7', fg = '#364156')\n",
    "    heading.pack()\n",
    "    \n",
    "    result = Label(top, font = ('arial', 15, 'bold'))\n",
    "    result.configure(fg = '#011638', bg = '#f9f6f7')\n",
    "    \n",
    "    sign_image = Label(top)\n",
    "    \n",
    "    upload = Button(top, text = 'Upload an image', command = upload_image, padx = 10, pady = 5)\n",
    "    upload.configure(background = '#364156', fg = 'white', font = ('arial', 10, 'bold'))\n",
    "    \n",
    "    upload.pack(side = BOTTOM, pady = 50)\n",
    "    sign_image.pack(side = BOTTOM, expand = True)\n",
    "    result.pack(side = BOTTOM, expand = True)\n",
    "    top.mainloop()"
   ]
  }
 ],
 "metadata": {
  "kernelspec": {
   "display_name": "Python 3",
   "language": "python",
   "name": "python3"
  },
  "language_info": {
   "codemirror_mode": {
    "name": "ipython",
    "version": 3
   },
   "file_extension": ".py",
   "mimetype": "text/x-python",
   "name": "python",
   "nbconvert_exporter": "python",
   "pygments_lexer": "ipython3",
   "version": "3.7.7"
  }
 },
 "nbformat": 4,
 "nbformat_minor": 4
}
